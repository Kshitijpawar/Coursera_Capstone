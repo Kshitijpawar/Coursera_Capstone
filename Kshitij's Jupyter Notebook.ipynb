{
    "nbformat_minor": 1, 
    "cells": [
        {
            "source": "## Data Science Capstone", 
            "cell_type": "markdown", 
            "metadata": {
                "collapsed": true
            }
        }, 
        {
            "source": "# Jupyter notebook to code in Python in Data Science Capstone Project", 
            "cell_type": "markdown", 
            "metadata": {}
        }, 
        {
            "source": "import pandas as pd\nimport numpy as np", 
            "cell_type": "code", 
            "metadata": {}, 
            "outputs": [], 
            "execution_count": 8
        }, 
        {
            "source": "print(\"Hello Capstone Project Course!\")", 
            "cell_type": "code", 
            "metadata": {}, 
            "outputs": [
                {
                    "output_type": "stream", 
                    "name": "stdout", 
                    "text": "Hello Capstone Project Course!\n"
                }
            ], 
            "execution_count": 9
        }, 
        {
            "source": "# Part 1 :Web Scraping  \n***", 
            "cell_type": "markdown", 
            "metadata": {}
        }, 
        {
            "source": "**1.) Importing all the necessary libraries**  ", 
            "cell_type": "markdown", 
            "metadata": {}
        }, 
        {
            "source": "from bs4 import BeautifulSoup\nimport requests\nimport csv\nimport pandas as pd\nprint(\"Succefully imported\")", 
            "cell_type": "code", 
            "metadata": {}, 
            "outputs": [
                {
                    "output_type": "stream", 
                    "name": "stdout", 
                    "text": "Succefully imported\n"
                }
            ], 
            "execution_count": 10
        }, 
        {
            "source": "**2.) Initialising some lists to store columns and data**  ", 
            "cell_type": "markdown", 
            "metadata": {}
        }, 
        {
            "source": "data = []\npostcode = []\nborough = []\nneighborhood = []\ncolumns = []", 
            "cell_type": "code", 
            "metadata": {}, 
            "outputs": [], 
            "execution_count": 11
        }, 
        {
            "source": "**3.) Getting the Wikipedia Page**", 
            "cell_type": "markdown", 
            "metadata": {}
        }, 
        {
            "source": "source = requests.get('https://en.wikipedia.org/wiki/List_of_postal_codes_of_Canada:_M').text\nsoup = BeautifulSoup(source , 'lxml')\n", 
            "cell_type": "code", 
            "metadata": {}, 
            "outputs": [], 
            "execution_count": 12
        }, 
        {
            "source": "**4.) Initialising the web scraping part, storing columns and creating a dataframe**", 
            "cell_type": "markdown", 
            "metadata": {}
        }, 
        {
            "source": "post_code = soup.find('table' , {'class' : 'wikitable sortable'})\ncolumns = post_code.find('tr').text.split()\n\nfor ins in post_code.tbody.findAll('tr'):\n    for loop in ins.findAll('td'):\n        nani = loop.text\n        data.append(nani)\n        \n#Striping out trailing line breaks\ndata = list(map(lambda s: s.strip(), data))\n\n#Appending Columns to Lists\nfor my in range(0 , len(data) , 3):\n    postcode.append(data[my])\n    borough.append(data[my+1])\n    neighborhood.append(data[my+2])\n\n#Creating the dataframe\ndata_frame = pd.DataFrame(list(zip(postcode , borough , neighborhood)) , columns = columns)\n\n#Cleaning the dataframe by deleting rows with no Borough Assigned!\n\ndata_frame  = data_frame[data_frame.Borough != 'Not assigned']\n\n#Grouping rows with similar Boroughs!\n\ndata_frame_new = data_frame.groupby(['Postcode' , 'Borough'] , sort = False).agg(lambda x:','.join(x))\n\n", 
            "cell_type": "code", 
            "metadata": {}, 
            "outputs": [], 
            "execution_count": 13
        }, 
        {
            "source": "data_frame_new.head()", 
            "cell_type": "code", 
            "metadata": {}, 
            "outputs": [
                {
                    "output_type": "execute_result", 
                    "data": {
                        "text/html": "<div>\n<style scoped>\n    .dataframe tbody tr th:only-of-type {\n        vertical-align: middle;\n    }\n\n    .dataframe tbody tr th {\n        vertical-align: top;\n    }\n\n    .dataframe thead th {\n        text-align: right;\n    }\n</style>\n<table border=\"1\" class=\"dataframe\">\n  <thead>\n    <tr style=\"text-align: right;\">\n      <th></th>\n      <th></th>\n      <th>Neighbourhood</th>\n    </tr>\n    <tr>\n      <th>Postcode</th>\n      <th>Borough</th>\n      <th></th>\n    </tr>\n  </thead>\n  <tbody>\n    <tr>\n      <th>M3A</th>\n      <th>North York</th>\n      <td>Parkwoods</td>\n    </tr>\n    <tr>\n      <th>M4A</th>\n      <th>North York</th>\n      <td>Victoria Village</td>\n    </tr>\n    <tr>\n      <th>M5A</th>\n      <th>Downtown Toronto</th>\n      <td>Harbourfront,Regent Park</td>\n    </tr>\n    <tr>\n      <th>M6A</th>\n      <th>North York</th>\n      <td>Lawrence Heights,Lawrence Manor</td>\n    </tr>\n    <tr>\n      <th>M7A</th>\n      <th>Queen's Park</th>\n      <td>Not assigned</td>\n    </tr>\n  </tbody>\n</table>\n</div>", 
                        "text/plain": "                                             Neighbourhood\nPostcode Borough                                          \nM3A      North York                              Parkwoods\nM4A      North York                       Victoria Village\nM5A      Downtown Toronto         Harbourfront,Regent Park\nM6A      North York        Lawrence Heights,Lawrence Manor\nM7A      Queen's Park                         Not assigned"
                    }, 
                    "execution_count": 14, 
                    "metadata": {}
                }
            ], 
            "execution_count": 14
        }, 
        {
            "source": "", 
            "cell_type": "markdown", 
            "metadata": {}
        }
    ], 
    "metadata": {
        "kernelspec": {
            "display_name": "Python 3.5", 
            "name": "python3", 
            "language": "python"
        }, 
        "language_info": {
            "mimetype": "text/x-python", 
            "nbconvert_exporter": "python", 
            "version": "3.5.5", 
            "name": "python", 
            "file_extension": ".py", 
            "pygments_lexer": "ipython3", 
            "codemirror_mode": {
                "version": 3, 
                "name": "ipython"
            }
        }
    }, 
    "nbformat": 4
}