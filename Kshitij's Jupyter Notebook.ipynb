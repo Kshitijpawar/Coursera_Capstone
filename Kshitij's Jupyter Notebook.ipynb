{
    "nbformat_minor": 1, 
    "cells": [
        {
            "source": "## Data Science Capstone", 
            "cell_type": "markdown", 
            "metadata": {
                "collapsed": true
            }
        }, 
        {
            "source": "# Jupyter notebook to code in Python in Data Science Capstone Project", 
            "cell_type": "markdown", 
            "metadata": {}
        }, 
        {
            "source": "import pandas as pd\nimport numpy as np", 
            "cell_type": "code", 
            "metadata": {}, 
            "outputs": [], 
            "execution_count": 8
        }, 
        {
            "source": "print(\"Hello Capstone Project Course!\")", 
            "cell_type": "code", 
            "metadata": {}, 
            "outputs": [
                {
                    "output_type": "stream", 
                    "name": "stdout", 
                    "text": "Hello Capstone Project Course!\n"
                }
            ], 
            "execution_count": 9
        }, 
        {
            "source": "# Part 1 :Web Scraping  \n***", 
            "cell_type": "markdown", 
            "metadata": {}
        }, 
        {
            "source": "**1.) Importing all the necessary libraries**  ", 
            "cell_type": "markdown", 
            "metadata": {}
        }, 
        {
            "source": "from bs4 import BeautifulSoup\nimport requests\nimport csv\nimport pandas as pd\nprint(\"Succefully imported\")", 
            "cell_type": "code", 
            "metadata": {}, 
            "outputs": [
                {
                    "output_type": "stream", 
                    "name": "stdout", 
                    "text": "Succefully imported\n"
                }
            ], 
            "execution_count": 10
        }, 
        {
            "source": "**2.) Initialising some lists to store columns and data**  ", 
            "cell_type": "markdown", 
            "metadata": {}
        }, 
        {
            "source": "data = []\npostcode = []\nborough = []\nneighborhood = []\ncolumns = []", 
            "cell_type": "code", 
            "metadata": {}, 
            "outputs": [], 
            "execution_count": 11
        }, 
        {
            "source": "**3.) Getting the Wikipedia Page**", 
            "cell_type": "markdown", 
            "metadata": {}
        }, 
        {
            "source": "source = requests.get('https://en.wikipedia.org/wiki/List_of_postal_codes_of_Canada:_M').text\nsoup = BeautifulSoup(source , 'lxml')\n", 
            "cell_type": "code", 
            "metadata": {}, 
            "outputs": [], 
            "execution_count": 12
        }, 
        {
            "source": "**4.) Initialising the web scraping part, storing columns and creating a dataframe**", 
            "cell_type": "markdown", 
            "metadata": {}
        }, 
        {
            "source": "post_code = soup.find('table' , {'class' : 'wikitable sortable'})\ncolumns = post_code.find('tr').text.split()\n\nfor ins in post_code.tbody.findAll('tr'):\n    for loop in ins.findAll('td'):\n        nani = loop.text\n        data.append(nani)\n        \n#Striping out trailing line breaks\ndata = list(map(lambda s: s.strip(), data))\n\n#Appending Columns to Lists\nfor my in range(0 , len(data) , 3):\n    postcode.append(data[my])\n    borough.append(data[my+1])\n    neighborhood.append(data[my+2])\n\n#Creating the dataframe\ndata_frame = pd.DataFrame(list(zip(postcode , borough , neighborhood)) , columns = columns)\n\n#Cleaning the dataframe by deleting rows with no Borough Assigned!\n\ndata_frame  = data_frame[data_frame.Borough != 'Not assigned']\n\n#Grouping rows with similar Boroughs!\n\ndata_frame_new = data_frame.groupby(['Postcode' , 'Borough'] , sort = False).agg(lambda x:','.join(x))\n\ndata_frame_new.reset_index(level=['Postcode','Borough'], inplace=True)", 
            "cell_type": "code", 
            "metadata": {}, 
            "outputs": [], 
            "execution_count": 33
        }, 
        {
            "source": "", 
            "cell_type": "code", 
            "metadata": {}, 
            "outputs": [], 
            "execution_count": 30
        }, 
        {
            "source": "**Shape of the dataframe**  ", 
            "cell_type": "markdown", 
            "metadata": {}
        }, 
        {
            "source": "data_frame_new.columns", 
            "cell_type": "code", 
            "metadata": {}, 
            "outputs": [
                {
                    "output_type": "execute_result", 
                    "data": {
                        "text/plain": "Index(['Postcode', 'Borough', 'Neighbourhood'], dtype='object')"
                    }, 
                    "execution_count": 34, 
                    "metadata": {}
                }
            ], 
            "execution_count": 34
        }, 
        {
            "source": "", 
            "cell_type": "code", 
            "metadata": {}, 
            "outputs": [], 
            "execution_count": null
        }
    ], 
    "metadata": {
        "kernelspec": {
            "display_name": "Python 3.5", 
            "name": "python3", 
            "language": "python"
        }, 
        "language_info": {
            "mimetype": "text/x-python", 
            "nbconvert_exporter": "python", 
            "version": "3.5.5", 
            "name": "python", 
            "file_extension": ".py", 
            "pygments_lexer": "ipython3", 
            "codemirror_mode": {
                "version": 3, 
                "name": "ipython"
            }
        }
    }, 
    "nbformat": 4
}