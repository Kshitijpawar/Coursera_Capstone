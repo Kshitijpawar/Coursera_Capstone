{
    "nbformat_minor": 1, 
    "cells": [
        {
            "source": "## Data Science Capstone", 
            "cell_type": "markdown", 
            "metadata": {
                "collapsed": true
            }
        }, 
        {
            "source": "# Jupyter notebook to code in Python in Data Science Capstone Project", 
            "cell_type": "markdown", 
            "metadata": {}
        }, 
        {
            "source": "import pandas as pd\nimport numpy as np", 
            "cell_type": "code", 
            "metadata": {}, 
            "outputs": [], 
            "execution_count": 1
        }, 
        {
            "source": "print(\"Hello Capstone Project Course!\")", 
            "cell_type": "code", 
            "metadata": {}, 
            "outputs": [
                {
                    "output_type": "stream", 
                    "name": "stdout", 
                    "text": "Hello Capstone Project Course!\n"
                }
            ], 
            "execution_count": 2
        }, 
        {
            "source": "# Part 1 :Web Scraping  \n***", 
            "cell_type": "markdown", 
            "metadata": {}
        }, 
        {
            "source": "**1.) Importing all the necessary libraries**  ", 
            "cell_type": "markdown", 
            "metadata": {}
        }, 
        {
            "source": "from bs4 import BeautifulSoup\nimport requests\nimport csv\nimport pandas as pd\nprint(\"Succefully imported\")", 
            "cell_type": "code", 
            "metadata": {}, 
            "outputs": [
                {
                    "output_type": "stream", 
                    "name": "stdout", 
                    "text": "Succefully imported\n"
                }
            ], 
            "execution_count": 3
        }, 
        {
            "source": "**2.) Initialising some lists to store columns and data**  ", 
            "cell_type": "markdown", 
            "metadata": {}
        }, 
        {
            "source": "data = []\npostcode = []\nborough = []\nneighborhood = []\ncolumns = []", 
            "cell_type": "code", 
            "metadata": {}, 
            "outputs": [], 
            "execution_count": 4
        }, 
        {
            "source": "**3.) Getting the Wikipedia Page**", 
            "cell_type": "markdown", 
            "metadata": {}
        }, 
        {
            "source": "source = requests.get('https://en.wikipedia.org/wiki/List_of_postal_codes_of_Canada:_M').text\nsoup = BeautifulSoup(source , 'lxml')\n", 
            "cell_type": "code", 
            "metadata": {}, 
            "outputs": [], 
            "execution_count": 5
        }, 
        {
            "source": "**4.) Initialising the web scraping part, storing columns and creating a dataframe**", 
            "cell_type": "markdown", 
            "metadata": {}
        }, 
        {
            "source": "post_code = soup.find('table' , {'class' : 'wikitable sortable'})\ncolumns = post_code.find('tr').text.split()\n\nfor ins in post_code.tbody.findAll('tr'):\n    for loop in ins.findAll('td'):\n        nani = loop.text\n        data.append(nani)\n        \n#Striping out trailing line breaks\ndata = list(map(lambda s: s.strip(), data))\n\n#Appending Columns to Lists\nfor my in range(0 , len(data) , 3):\n    postcode.append(data[my])\n    borough.append(data[my+1])\n    neighborhood.append(data[my+2])\n\n#Creating the dataframe\ndata_frame = pd.DataFrame(list(zip(postcode , borough , neighborhood)) , columns = columns)\n\n#Cleaning the dataframe by deleting rows with no Borough Assigned!\n\ndata_frame  = data_frame[data_frame.Borough != 'Not assigned'].reset_index(drop=True)\n\n#Grouping rows with similar Boroughs!\n\ndata_frame_new = data_frame.groupby(['Postcode' , 'Borough'] , sort = False).agg(lambda x:','.join(x))\n", 
            "cell_type": "code", 
            "metadata": {}, 
            "outputs": [], 
            "execution_count": 6
        }, 
        {
            "source": "data_frame_new.reset_index(level=['Postcode','Borough'], inplace=True)\ndata_frame_new.columns", 
            "cell_type": "code", 
            "metadata": {}, 
            "outputs": [
                {
                    "output_type": "execute_result", 
                    "data": {
                        "text/plain": "Index(['Postcode', 'Borough', 'Neighbourhood'], dtype='object')"
                    }, 
                    "execution_count": 7, 
                    "metadata": {}
                }
            ], 
            "execution_count": 7
        }, 
        {
            "source": "na_neigh_rows = data_frame_new.Neighbourhood == \"Not assigned\"\ndata_frame_new.loc[na_neigh_rows, 'Neighbourhood'] = data_frame_new.loc[na_neigh_rows, 'Borough']\n#na_neigh_rows", 
            "cell_type": "code", 
            "metadata": {}, 
            "outputs": [], 
            "execution_count": 10
        }, 
        {
            "source": "data_frame_new.head()", 
            "cell_type": "code", 
            "metadata": {}, 
            "outputs": [
                {
                    "output_type": "execute_result", 
                    "data": {
                        "text/plain": "  Postcode           Borough                    Neighbourhood\n0      M3A        North York                        Parkwoods\n1      M4A        North York                 Victoria Village\n2      M5A  Downtown Toronto         Harbourfront,Regent Park\n3      M6A        North York  Lawrence Heights,Lawrence Manor\n4      M7A      Queen's Park                     Queen's Park", 
                        "text/html": "<div>\n<style scoped>\n    .dataframe tbody tr th:only-of-type {\n        vertical-align: middle;\n    }\n\n    .dataframe tbody tr th {\n        vertical-align: top;\n    }\n\n    .dataframe thead th {\n        text-align: right;\n    }\n</style>\n<table border=\"1\" class=\"dataframe\">\n  <thead>\n    <tr style=\"text-align: right;\">\n      <th></th>\n      <th>Postcode</th>\n      <th>Borough</th>\n      <th>Neighbourhood</th>\n    </tr>\n  </thead>\n  <tbody>\n    <tr>\n      <th>0</th>\n      <td>M3A</td>\n      <td>North York</td>\n      <td>Parkwoods</td>\n    </tr>\n    <tr>\n      <th>1</th>\n      <td>M4A</td>\n      <td>North York</td>\n      <td>Victoria Village</td>\n    </tr>\n    <tr>\n      <th>2</th>\n      <td>M5A</td>\n      <td>Downtown Toronto</td>\n      <td>Harbourfront,Regent Park</td>\n    </tr>\n    <tr>\n      <th>3</th>\n      <td>M6A</td>\n      <td>North York</td>\n      <td>Lawrence Heights,Lawrence Manor</td>\n    </tr>\n    <tr>\n      <th>4</th>\n      <td>M7A</td>\n      <td>Queen's Park</td>\n      <td>Queen's Park</td>\n    </tr>\n  </tbody>\n</table>\n</div>"
                    }, 
                    "execution_count": 11, 
                    "metadata": {}
                }
            ], 
            "execution_count": 11
        }, 
        {
            "source": "**Shape of the dataframe**  ", 
            "cell_type": "markdown", 
            "metadata": {}
        }, 
        {
            "source": "data_frame_new.shape", 
            "cell_type": "code", 
            "metadata": {}, 
            "outputs": [
                {
                    "output_type": "execute_result", 
                    "data": {
                        "text/plain": "(103, 3)"
                    }, 
                    "execution_count": 12, 
                    "metadata": {}
                }
            ], 
            "execution_count": 12
        }, 
        {
            "source": "", 
            "cell_type": "code", 
            "metadata": {}, 
            "outputs": [], 
            "execution_count": null
        }
    ], 
    "metadata": {
        "kernelspec": {
            "display_name": "Python 3.5", 
            "name": "python3", 
            "language": "python"
        }, 
        "language_info": {
            "mimetype": "text/x-python", 
            "nbconvert_exporter": "python", 
            "version": "3.5.5", 
            "name": "python", 
            "pygments_lexer": "ipython3", 
            "file_extension": ".py", 
            "codemirror_mode": {
                "version": 3, 
                "name": "ipython"
            }
        }
    }, 
    "nbformat": 4
}